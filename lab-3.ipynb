{
 "cells": [
  {
   "cell_type": "markdown",
   "metadata": {},
   "source": [
    "For this lab, we still keep using the `marketing_customer_analysis.csv` file. You can find the file in the `files_for_lab` folder.\n",
    "\n",
    "#### 1. Show DataFrame info."
   ]
  },
  {
   "cell_type": "code",
   "execution_count": null,
   "metadata": {},
   "outputs": [],
   "source": [
    "import pandas as pd\n",
    "import numpy as np\n",
    "import matplotlib.pyplot as plt\n",
    "import seaborn as sns\n",
    "\n",
    "df = pd.read_csv('files_for_lab/csv_files/marketing_customer_analysis.csv')\n",
    "df.rename(columns = {'EmploymentStatus': 'Employment Status'}, inplace = True)\n",
    "df.columns = df.columns.str.lower()\n",
    "\n",
    "print(df.info())\n"
   ]
  },
  {
   "cell_type": "markdown",
   "metadata": {},
   "source": [
    "#### 2. Describe DataFrame."
   ]
  },
  {
   "cell_type": "code",
   "execution_count": null,
   "metadata": {},
   "outputs": [],
   "source": [
    "print(df.describe())"
   ]
  },
  {
   "cell_type": "markdown",
   "metadata": {},
   "source": [
    "#### 3. Show a plot of the total number of responses."
   ]
  },
  {
   "cell_type": "code",
   "execution_count": null,
   "metadata": {},
   "outputs": [],
   "source": [
    "resp = df['response'].unique()\n",
    "resp_no = df['response'].value_counts()\n",
    "\n",
    "fig, ax = plt.subplots(figsize = (9, 12))\n",
    "plt.bar(resp, resp_no)\n",
    "plt.show()"
   ]
  },
  {
   "cell_type": "markdown",
   "metadata": {},
   "source": [
    "#### 4. Show a plot of the response rate by the sales channel."
   ]
  },
  {
   "cell_type": "code",
   "execution_count": null,
   "metadata": {},
   "outputs": [],
   "source": [
    "# Separate the dataframe into 'yes' and 'no' respondents\n",
    "df_y = df[df['response'] == 'Yes']\n",
    "df_n = df[df['response'] == 'No']\n",
    "\n",
    "# Find the amount of people that said yes & no per sales channel\n",
    "sales_channels = df['sales channel'].unique()\n",
    "sales_channels_y = df_y['sales channel'].value_counts()\n",
    "sales_channels_n = df_n['sales channel'].value_counts()\n",
    "\n",
    "# Plot the data as two bar plots\n",
    "fig, ax = plt.subplots(figsize = (9, 12))\n",
    "x_axis = np.arange(len(sales_channels))\n",
    "bar_width = 0.4\n",
    "\n",
    "plt.bar(x_axis, sales_channels_y, bar_width, label = 'Yes')\n",
    "plt.bar(x_axis + bar_width, sales_channels_n, bar_width, label = 'No')\n",
    "plt.xlabel('Sales Channel')\n",
    "plt.xticks(x_axis + bar_width / 2, sales_channels)\n",
    "plt.ylabel('Response Rate')\n",
    "plt.legend()\n",
    "plt.show()"
   ]
  },
  {
   "cell_type": "markdown",
   "metadata": {},
   "source": [
    "#### 5. Show a plot of the response rate by the total claim amount."
   ]
  },
  {
   "cell_type": "code",
   "execution_count": null,
   "metadata": {},
   "outputs": [],
   "source": [
    "# Use the separated dataframes to create two boxplots in the same figure:\n",
    "fig, ax = plt.subplots(figsize = (9, 12))\n",
    "\n",
    "plt.boxplot([df_y['total claim amount'], df_n['total claim amount']])\n",
    "\n",
    "ax.set_xticklabels(['Yes','No'])\n",
    "plt.xlabel('Response')\n",
    "plt.ylabel('Total Claim Amount')\n",
    "plt.show()"
   ]
  },
  {
   "cell_type": "markdown",
   "metadata": {},
   "source": [
    "#### 6. Show a plot of the response rate by income."
   ]
  },
  {
   "cell_type": "code",
   "execution_count": null,
   "metadata": {},
   "outputs": [],
   "source": [
    "# We can use the same type of plot as we did for the total claim amount:\n",
    "fig, ax = plt.subplots(figsize = (9, 12))\n",
    "\n",
    "plt.boxplot([df_y['income'], df_n['income']])\n",
    "\n",
    "ax.set_xticklabels(['Yes','No'])\n",
    "plt.xlabel('Response')\n",
    "plt.ylabel('Income')\n",
    "plt.show()"
   ]
  }
 ],
 "metadata": {
  "interpreter": {
   "hash": "916dbcbb3f70747c44a77c7bcd40155683ae19c65e1c03b4aa3499c5328201f1"
  },
  "kernelspec": {
   "display_name": "Python 3.8.10 64-bit",
   "language": "python",
   "name": "python3"
  },
  "language_info": {
   "codemirror_mode": {
    "name": "ipython",
    "version": 3
   },
   "file_extension": ".py",
   "mimetype": "text/x-python",
   "name": "python",
   "nbconvert_exporter": "python",
   "pygments_lexer": "ipython3",
   "version": "3.8.10"
  },
  "orig_nbformat": 4
 },
 "nbformat": 4,
 "nbformat_minor": 2
}
